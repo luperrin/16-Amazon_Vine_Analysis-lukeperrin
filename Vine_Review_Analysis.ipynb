{
 "nbformat": 4,
 "nbformat_minor": 0,
 "metadata": {
  "colab": {
   "name": "Vine_Review_Analysis.ipynb",
   "provenance": [],
   "collapsed_sections": []
  },
  "kernelspec": {
   "name": "python3",
   "display_name": "Python 3"
  },
  "language_info": {
   "name": "python"
  }
 },
 "cells": [
  {
   "cell_type": "code",
   "execution_count": 1,
   "metadata": {
    "colab": {
     "base_uri": "https://localhost:8080/"
    },
    "id": "ioTXykAvSFMx",
    "outputId": "91b57363-cb28-4a5c-f81d-84fc82f0fcd5"
   },
   "outputs": [
    {
     "output_type": "stream",
     "name": "stdout",
     "text": [
      "\r0% [Working]\r            \rHit:1 https://developer.download.nvidia.com/compute/cuda/repos/ubuntu1804/x86_64  InRelease\n",
      "\r0% [Connecting to archive.ubuntu.com] [Connecting to security.ubuntu.com (185.1\r                                                                               \rIgn:2 https://developer.download.nvidia.com/compute/machine-learning/repos/ubuntu1804/x86_64  InRelease\n",
      "\r0% [Connecting to archive.ubuntu.com] [Connecting to security.ubuntu.com (185.1\r0% [1 InRelease gpgv 1,581 B] [Connecting to archive.ubuntu.com] [Connecting to\r                                                                               \rHit:3 https://developer.download.nvidia.com/compute/machine-learning/repos/ubuntu1804/x86_64  Release\n",
      "Hit:4 https://cloud.r-project.org/bin/linux/ubuntu bionic-cran40/ InRelease\n",
      "Hit:5 http://security.ubuntu.com/ubuntu bionic-security InRelease\n",
      "Hit:6 http://archive.ubuntu.com/ubuntu bionic InRelease\n",
      "Hit:7 http://archive.ubuntu.com/ubuntu bionic-updates InRelease\n",
      "Hit:8 http://ppa.launchpad.net/c2d4u.team/c2d4u4.0+/ubuntu bionic InRelease\n",
      "Hit:9 http://archive.ubuntu.com/ubuntu bionic-backports InRelease\n",
      "Hit:11 http://ppa.launchpad.net/cran/libgit2/ubuntu bionic InRelease\n",
      "Hit:12 http://ppa.launchpad.net/deadsnakes/ppa/ubuntu bionic InRelease\n",
      "Hit:13 http://ppa.launchpad.net/graphics-drivers/ppa/ubuntu bionic InRelease\n",
      "Reading package lists... Done\n"
     ]
    }
   ],
   "source": [
    "import os\n",
    "# Find the latest version of spark 3.0  from http://www.apache.org/dist/spark/ and enter as the spark version\n",
    "# For example:\n",
    "# spark_version = 'spark-3.2.1'\n",
    "spark_version = 'spark-3.2.1'\n",
    "os.environ['SPARK_VERSION']=spark_version\n",
    "\n",
    "# Install Spark and Java\n",
    "!apt-get update\n",
    "!apt-get install openjdk-11-jdk-headless -qq > /dev/null\n",
    "!wget -q http://www.apache.org/dist/spark/$SPARK_VERSION/$SPARK_VERSION-bin-hadoop2.7.tgz\n",
    "!tar xf $SPARK_VERSION-bin-hadoop2.7.tgz\n",
    "!pip install -q findspark\n",
    "\n",
    "# Set Environment Variables\n",
    "os.environ[\"JAVA_HOME\"] = \"/usr/lib/jvm/java-11-openjdk-amd64\"\n",
    "os.environ[\"SPARK_HOME\"] = f\"/content/{spark_version}-bin-hadoop2.7\"\n",
    "\n",
    "# Start a SparkSession\n",
    "import findspark\n",
    "findspark.init()\n",
    "\n",
    "from config import password"
   ]
  },
  {
   "cell_type": "code",
   "source": [
    "# Download the Postgres driver that will allow Spark to interact with Postgres.\n",
    "!wget https://jdbc.postgresql.org/download/postgresql-42.2.16.jar"
   ],
   "metadata": {
    "colab": {
     "base_uri": "https://localhost:8080/"
    },
    "id": "z7pBg-8MSYyw",
    "outputId": "201795a1-4060-4f78-880d-1817db6e8abd"
   },
   "execution_count": 2,
   "outputs": [
    {
     "output_type": "stream",
     "name": "stdout",
     "text": [
      "--2022-06-02 07:24:04--  https://jdbc.postgresql.org/download/postgresql-42.2.16.jar\n",
      "Resolving jdbc.postgresql.org (jdbc.postgresql.org)... 72.32.157.228, 2001:4800:3e1:1::228\n",
      "Connecting to jdbc.postgresql.org (jdbc.postgresql.org)|72.32.157.228|:443... connected.\n",
      "HTTP request sent, awaiting response... 200 OK\n",
      "Length: 1002883 (979K) [application/java-archive]\n",
      "Saving to: ‘postgresql-42.2.16.jar.1’\n",
      "\n",
      "postgresql-42.2.16. 100%[===================>] 979.38K  5.51MB/s    in 0.2s    \n",
      "\n",
      "2022-06-02 07:24:04 (5.51 MB/s) - ‘postgresql-42.2.16.jar.1’ saved [1002883/1002883]\n",
      "\n"
     ]
    }
   ]
  },
  {
   "cell_type": "code",
   "source": [
    "from pyspark.sql import SparkSession\n",
    "spark = SparkSession.builder.appName(\"M16-Amazon-Challenge\").config(\"spark.driver.extraClassPath\",\"/content/postgresql-42.2.16.jar\").getOrCreate()"
   ],
   "metadata": {
    "id": "ISgWUGc9Tbbw"
   },
   "execution_count": 4,
   "outputs": []
  },
  {
   "cell_type": "code",
   "source": [
    "from pyspark import SparkFiles\n",
    "url = \"https://s3.amazonaws.com/amazon-reviews-pds/tsv/amazon_reviews_us_Electronics_v1_00.tsv.gz\"\n",
    "spark.sparkContext.addFile(url)\n",
    "df = spark.read.option(\"encoding\", \"UTF-8\").csv(SparkFiles.get(\"\"), sep=\"\\t\", header=True, inferSchema=True)\n",
    "df.show(10)"
   ],
   "metadata": {
    "colab": {
     "base_uri": "https://localhost:8080/"
    },
    "id": "eLtcBn3vSdpt",
    "outputId": "8e4ea1de-db73-47a2-a721-dc7ab67172b8"
   },
   "execution_count": 5,
   "outputs": [
    {
     "output_type": "stream",
     "name": "stdout",
     "text": [
      "+-----------+-----------+--------------+----------+--------------+--------------------+----------------+-----------+-------------+-----------+----+-----------------+--------------------+--------------------+-----------+\n",
      "|marketplace|customer_id|     review_id|product_id|product_parent|       product_title|product_category|star_rating|helpful_votes|total_votes|vine|verified_purchase|     review_headline|         review_body|review_date|\n",
      "+-----------+-----------+--------------+----------+--------------+--------------------+----------------+-----------+-------------+-----------+----+-----------------+--------------------+--------------------+-----------+\n",
      "|         US|   41409413|R2MTG1GCZLR2DK|B00428R89M|     112201306|yoomall 5M Antenn...|     Electronics|          5|            0|          0|   N|                Y|          Five Stars|       As described.| 2015-08-31|\n",
      "|         US|   49668221|R2HBOEM8LE9928|B000068O48|     734576678|Hosa GPM-103 3.5m...|     Electronics|          5|            0|          0|   N|                Y|It works as adver...|It works as adver...| 2015-08-31|\n",
      "|         US|   12338275|R1P4RW1R9FDPEE|B000GGKOG8|     614448099|Channel Master Ti...|     Electronics|          5|            1|          1|   N|                Y|          Five Stars|         Works pissa| 2015-08-31|\n",
      "|         US|   38487968|R1EBPM82ENI67M|B000NU4OTA|      72265257|LIMTECH Wall char...|     Electronics|          1|            0|          0|   N|                Y|            One Star|Did not work at all.| 2015-08-31|\n",
      "|         US|   23732619|R372S58V6D11AT|B00JOQIO6S|     308169188|Skullcandy Air Ra...|     Electronics|          5|            1|          1|   N|                Y|Overall pleased w...|Works well. Bass ...| 2015-08-31|\n",
      "|         US|   21257820|R1A4514XOYI1PD|B008NCD2LG|     976385982|Pioneer SP-BS22-L...|     Electronics|          5|            1|          1|   N|                Y|          Five Stars|The quality on th...| 2015-08-31|\n",
      "|         US|    3084991|R20D9EHB7N20V6|B00007FGUF|     670878953|C2G/Cables to Go ...|     Electronics|          5|            0|          0|   N|                Y|           Lifesaver|Wish I could give...| 2015-08-31|\n",
      "|         US|    8153674|R1WUTD8MVSROJU|B00M9V2RMM|     508452933|COOLEAD-HDMI Swit...|     Electronics|          5|            0|          0|   N|                Y|          Five Stars|         works great| 2015-08-31|\n",
      "|         US|   52246189|R1QCYLT25812DM|B00J3O9DYI|     766372886|Philips Wireless ...|     Electronics|          4|            0|          0|   N|                Y|          Four Stars|Great sound and c...| 2015-08-31|\n",
      "|         US|   41463864| R904DQPBCEM7A|B00NS1A0E4|     458130381|PlayStation 3 3D ...|     Electronics|          4|            0|          0|   N|                Y|          Four Stars|    It works well~~~| 2015-08-31|\n",
      "+-----------+-----------+--------------+----------+--------------+--------------------+----------------+-----------+-------------+-----------+----+-----------------+--------------------+--------------------+-----------+\n",
      "only showing top 10 rows\n",
      "\n"
     ]
    }
   ]
  },
  {
   "cell_type": "code",
   "source": [
    "# Create the vine_table. DataFrame\n",
    "vine_df = df.select([\"review_id\", \"star_rating\", \"helpful_votes\", \"total_votes\", \"vine\", \"verified_purchase\"])\n",
    "vine_df.show(10)"
   ],
   "metadata": {
    "colab": {
     "base_uri": "https://localhost:8080/"
    },
    "id": "iZqqgszuU-b3",
    "outputId": "649e4382-f7b9-40b4-c32c-42b1db250612"
   },
   "execution_count": 6,
   "outputs": [
    {
     "output_type": "stream",
     "name": "stdout",
     "text": [
      "+--------------+-----------+-------------+-----------+----+-----------------+\n",
      "|     review_id|star_rating|helpful_votes|total_votes|vine|verified_purchase|\n",
      "+--------------+-----------+-------------+-----------+----+-----------------+\n",
      "|R2MTG1GCZLR2DK|          5|            0|          0|   N|                Y|\n",
      "|R2HBOEM8LE9928|          5|            0|          0|   N|                Y|\n",
      "|R1P4RW1R9FDPEE|          5|            1|          1|   N|                Y|\n",
      "|R1EBPM82ENI67M|          1|            0|          0|   N|                Y|\n",
      "|R372S58V6D11AT|          5|            1|          1|   N|                Y|\n",
      "|R1A4514XOYI1PD|          5|            1|          1|   N|                Y|\n",
      "|R20D9EHB7N20V6|          5|            0|          0|   N|                Y|\n",
      "|R1WUTD8MVSROJU|          5|            0|          0|   N|                Y|\n",
      "|R1QCYLT25812DM|          4|            0|          0|   N|                Y|\n",
      "| R904DQPBCEM7A|          4|            0|          0|   N|                Y|\n",
      "+--------------+-----------+-------------+-----------+----+-----------------+\n",
      "only showing top 10 rows\n",
      "\n"
     ]
    }
   ]
  },
  {
   "cell_type": "markdown",
   "source": [
    "1. Filter the data and create a new DataFrame or table to retrieve all the rows where the total_votes count is equal to or greater than 20"
   ],
   "metadata": {
    "id": "1KzNJYgLT9ut"
   }
  },
  {
   "cell_type": "code",
   "source": [
    "twenty_plus_votes = vine_df.filter(\"total_votes>20\")\n",
    "twenty_plus_votes.show(10)"
   ],
   "metadata": {
    "colab": {
     "base_uri": "https://localhost:8080/"
    },
    "id": "gO7xGMFPT16c",
    "outputId": "f11f434c-decb-4dd4-a13b-c6ab88cd141b"
   },
   "execution_count": 15,
   "outputs": [
    {
     "output_type": "stream",
     "name": "stdout",
     "text": [
      "+--------------+-----------+-------------+-----------+----+-----------------+\n",
      "|     review_id|star_rating|helpful_votes|total_votes|vine|verified_purchase|\n",
      "+--------------+-----------+-------------+-----------+----+-----------------+\n",
      "|R1FBO737KD9F2N|          5|           19|         23|   N|                Y|\n",
      "|R3SJTYZBYBG4EE|          4|           99|         99|   N|                Y|\n",
      "|R248FG65D76D5Y|          1|           42|         53|   N|                Y|\n",
      "|R3B6BXFKGW52SG|          1|           32|         32|   N|                Y|\n",
      "| ROTIV4VYL31R4|          5|           26|         26|   N|                Y|\n",
      "|R3VQ59LD2LSKY7|          5|           20|         25|   N|                Y|\n",
      "| RIIGLD8JB7PX8|          1|           32|         35|   N|                Y|\n",
      "|R3MUBV21QV0IJK|          3|           77|         84|   N|                Y|\n",
      "|R1V5W0X6BKIJYA|          5|          129|        132|   N|                Y|\n",
      "|R274AKHXHYGIN6|          5|           87|        100|   N|                N|\n",
      "+--------------+-----------+-------------+-----------+----+-----------------+\n",
      "only showing top 10 rows\n",
      "\n"
     ]
    }
   ]
  },
  {
   "cell_type": "markdown",
   "source": [
    "2. Filter the new DataFrame or table created in Step 1 and create a new DataFrame or table to retrieve all the rows where the number of helpful_votes divided by total_votes is equal to or greater than 50%"
   ],
   "metadata": {
    "id": "3ZMI9SGQT_hz"
   }
  },
  {
   "cell_type": "code",
   "source": [
    "twenty_plus_votes = twenty_plus_votes.withColumn('helpful_percent', twenty_plus_votes['helpful_votes']/twenty_plus_votes['total_votes']*100)\n",
    "twenty_plus_votes = twenty_plus_votes.withColumn(\"helpful_percent\",twenty_plus_votes.helpful_percent.cast('float'))\n",
    "twenty_plus_votes.show(20)\n",
    "helpful_twenty_plus_votes = twenty_plus_votes.filter(twenty_plus_votes.helpful_percent>50)\n",
    "helpful_twenty_plus_votes.show(20)"
   ],
   "metadata": {
    "colab": {
     "base_uri": "https://localhost:8080/"
    },
    "id": "OsKFxhBPUKcT",
    "outputId": "96d86a04-8b39-4ba9-fe91-290cf3c23007"
   },
   "execution_count": 52,
   "outputs": [
    {
     "output_type": "stream",
     "name": "stdout",
     "text": [
      "+--------------+-----------+-------------+-----------+----+-----------------+---------------+\n",
      "|     review_id|star_rating|helpful_votes|total_votes|vine|verified_purchase|helpful_percent|\n",
      "+--------------+-----------+-------------+-----------+----+-----------------+---------------+\n",
      "|R1FBO737KD9F2N|          5|           19|         23|   N|                Y|      82.608696|\n",
      "|R3SJTYZBYBG4EE|          4|           99|         99|   N|                Y|          100.0|\n",
      "|R248FG65D76D5Y|          1|           42|         53|   N|                Y|      79.245285|\n",
      "|R3B6BXFKGW52SG|          1|           32|         32|   N|                Y|          100.0|\n",
      "| ROTIV4VYL31R4|          5|           26|         26|   N|                Y|          100.0|\n",
      "|R3VQ59LD2LSKY7|          5|           20|         25|   N|                Y|           80.0|\n",
      "| RIIGLD8JB7PX8|          1|           32|         35|   N|                Y|       91.42857|\n",
      "|R3MUBV21QV0IJK|          3|           77|         84|   N|                Y|      91.666664|\n",
      "|R1V5W0X6BKIJYA|          5|          129|        132|   N|                Y|       97.72727|\n",
      "|R274AKHXHYGIN6|          5|           87|        100|   N|                N|           87.0|\n",
      "| RVSZIYT9NB29U|          5|           22|         46|   N|                Y|      47.826088|\n",
      "|R1RDAOSARQUVFJ|          2|            6|         26|   N|                N|      23.076923|\n",
      "| R88RERIQDYDT5|          2|           17|         26|   N|                N|       65.38461|\n",
      "|R3T31I7IKQ5LFQ|          3|           52|         55|   N|                Y|      94.545456|\n",
      "| RZETLPHZJFYB8|          5|           23|         24|   N|                Y|      95.833336|\n",
      "|R1BG5NL9AX68QE|          1|           23|         29|   N|                Y|       79.31035|\n",
      "|R1Y05HDL2AWCSA|          5|          140|        145|   N|                Y|       96.55173|\n",
      "|R20EPERDBI56K8|          1|           30|         37|   N|                Y|       81.08108|\n",
      "| RPTN47ZNQBPWE|          5|           20|         24|   N|                Y|      83.333336|\n",
      "|R1Z8E8W9V6H911|          1|            2|         30|   N|                Y|      6.6666665|\n",
      "+--------------+-----------+-------------+-----------+----+-----------------+---------------+\n",
      "only showing top 20 rows\n",
      "\n",
      "+--------------+-----------+-------------+-----------+----+-----------------+---------------+\n",
      "|     review_id|star_rating|helpful_votes|total_votes|vine|verified_purchase|helpful_percent|\n",
      "+--------------+-----------+-------------+-----------+----+-----------------+---------------+\n",
      "|R1FBO737KD9F2N|          5|           19|         23|   N|                Y|      82.608696|\n",
      "|R3SJTYZBYBG4EE|          4|           99|         99|   N|                Y|          100.0|\n",
      "|R248FG65D76D5Y|          1|           42|         53|   N|                Y|      79.245285|\n",
      "|R3B6BXFKGW52SG|          1|           32|         32|   N|                Y|          100.0|\n",
      "| ROTIV4VYL31R4|          5|           26|         26|   N|                Y|          100.0|\n",
      "|R3VQ59LD2LSKY7|          5|           20|         25|   N|                Y|           80.0|\n",
      "| RIIGLD8JB7PX8|          1|           32|         35|   N|                Y|       91.42857|\n",
      "|R3MUBV21QV0IJK|          3|           77|         84|   N|                Y|      91.666664|\n",
      "|R1V5W0X6BKIJYA|          5|          129|        132|   N|                Y|       97.72727|\n",
      "|R274AKHXHYGIN6|          5|           87|        100|   N|                N|           87.0|\n",
      "| R88RERIQDYDT5|          2|           17|         26|   N|                N|       65.38461|\n",
      "|R3T31I7IKQ5LFQ|          3|           52|         55|   N|                Y|      94.545456|\n",
      "| RZETLPHZJFYB8|          5|           23|         24|   N|                Y|      95.833336|\n",
      "|R1BG5NL9AX68QE|          1|           23|         29|   N|                Y|       79.31035|\n",
      "|R1Y05HDL2AWCSA|          5|          140|        145|   N|                Y|       96.55173|\n",
      "|R20EPERDBI56K8|          1|           30|         37|   N|                Y|       81.08108|\n",
      "| RPTN47ZNQBPWE|          5|           20|         24|   N|                Y|      83.333336|\n",
      "|R3VJ8U3A8MT8II|          5|           17|         21|   N|                Y|       80.95238|\n",
      "|R3FMODXVNCITMO|          1|           70|         72|   N|                N|       97.22222|\n",
      "|R3PZT6IB5CSSP2|          5|           49|         53|   N|                Y|       92.45283|\n",
      "+--------------+-----------+-------------+-----------+----+-----------------+---------------+\n",
      "only showing top 20 rows\n",
      "\n"
     ]
    }
   ]
  },
  {
   "cell_type": "markdown",
   "source": [
    "3. Filter the DataFrame or table created in Step 2, and create a new DataFrame or table that retrieves all the rows where a review was written as part of the Vine program (paid), vine == 'Y'."
   ],
   "metadata": {
    "id": "h7zgKG_iULx8"
   }
  },
  {
   "cell_type": "code",
   "source": [
    "paid_helpful_twenty_plus_votes = twenty_plus_votes.filter(twenty_plus_votes.vine=='Y')\n",
    "paid_helpful_twenty_plus_votes.show(10)"
   ],
   "metadata": {
    "colab": {
     "base_uri": "https://localhost:8080/"
    },
    "id": "vE6PJ8UvUO7g",
    "outputId": "ef8a0a2f-213d-41d3-b963-9a414d87c5db"
   },
   "execution_count": 53,
   "outputs": [
    {
     "output_type": "stream",
     "name": "stdout",
     "text": [
      "+--------------+-----------+-------------+-----------+----+-----------------+---------------+\n",
      "|     review_id|star_rating|helpful_votes|total_votes|vine|verified_purchase|helpful_percent|\n",
      "+--------------+-----------+-------------+-----------+----+-----------------+---------------+\n",
      "| R82QWN2X2OCHB|          5|          176|        208|   Y|                N|       84.61539|\n",
      "|R1UYHBYE6790BU|          5|           44|         53|   Y|                N|       83.01887|\n",
      "|R2J3YLX1L4EH2B|          5|          299|        321|   Y|                N|      93.146416|\n",
      "|R3QDI539WTXKE2|          5|           26|         32|   Y|                N|          81.25|\n",
      "| RQTPWY6ND2NRV|          4|           37|         37|   Y|                N|          100.0|\n",
      "| RQZSTE0KOBY2G|          4|           98|        109|   Y|                N|       89.90826|\n",
      "| RF2RNZEJO0K1N|          4|           23|         26|   Y|                N|       88.46154|\n",
      "| ROB6VOW41E8O5|          4|          155|        172|   Y|                N|       90.11628|\n",
      "|R1PSDADBJRKB7N|          5|          215|        234|   Y|                N|       91.88034|\n",
      "|R379PSH3FBB6CG|          5|           22|         26|   Y|                N|       84.61539|\n",
      "+--------------+-----------+-------------+-----------+----+-----------------+---------------+\n",
      "only showing top 10 rows\n",
      "\n"
     ]
    }
   ]
  },
  {
   "cell_type": "markdown",
   "source": [
    "4. Repeat Step 3, but this time retrieve all the rows where the review was not part of the Vine program (unpaid), vine == 'N'."
   ],
   "metadata": {
    "id": "gHlXKC1rUPc0"
   }
  },
  {
   "cell_type": "code",
   "source": [
    "unpaid_helpful_twenty_plus_votes = twenty_plus_votes.filter(twenty_plus_votes.vine=='N')\n",
    "unpaid_helpful_twenty_plus_votes.show(10)"
   ],
   "metadata": {
    "colab": {
     "base_uri": "https://localhost:8080/"
    },
    "id": "oRyPRIGZUR7J",
    "outputId": "5db32e77-b107-41a3-d0b0-0dc2c34f63b8"
   },
   "execution_count": 54,
   "outputs": [
    {
     "output_type": "stream",
     "name": "stdout",
     "text": [
      "+--------------+-----------+-------------+-----------+----+-----------------+---------------+\n",
      "|     review_id|star_rating|helpful_votes|total_votes|vine|verified_purchase|helpful_percent|\n",
      "+--------------+-----------+-------------+-----------+----+-----------------+---------------+\n",
      "|R1FBO737KD9F2N|          5|           19|         23|   N|                Y|      82.608696|\n",
      "|R3SJTYZBYBG4EE|          4|           99|         99|   N|                Y|          100.0|\n",
      "|R248FG65D76D5Y|          1|           42|         53|   N|                Y|      79.245285|\n",
      "|R3B6BXFKGW52SG|          1|           32|         32|   N|                Y|          100.0|\n",
      "| ROTIV4VYL31R4|          5|           26|         26|   N|                Y|          100.0|\n",
      "|R3VQ59LD2LSKY7|          5|           20|         25|   N|                Y|           80.0|\n",
      "| RIIGLD8JB7PX8|          1|           32|         35|   N|                Y|       91.42857|\n",
      "|R3MUBV21QV0IJK|          3|           77|         84|   N|                Y|      91.666664|\n",
      "|R1V5W0X6BKIJYA|          5|          129|        132|   N|                Y|       97.72727|\n",
      "|R274AKHXHYGIN6|          5|           87|        100|   N|                N|           87.0|\n",
      "+--------------+-----------+-------------+-----------+----+-----------------+---------------+\n",
      "only showing top 10 rows\n",
      "\n"
     ]
    }
   ]
  },
  {
   "cell_type": "markdown",
   "source": [
    "5. Determine the total number of reviews, the number of 5-star reviews, and the percentage of 5-star reviews for the two types of review (paid vs unpaid)."
   ],
   "metadata": {
    "id": "5uk8Ts5hUSYl"
   }
  },
  {
   "cell_type": "code",
   "source": [
    "vine_total_counts = helpful_twenty_plus_votes.groupby(\"vine\").agg({\"vine\":\"count\"}).withColumnRenamed(\"count(vine)\", \"total_reviews_count\")\n",
    "vine_total_counts.show()"
   ],
   "metadata": {
    "colab": {
     "base_uri": "https://localhost:8080/"
    },
    "id": "etsrlb-bUZR-",
    "outputId": "325b8341-c2c6-4415-e5dc-b4df116691c7"
   },
   "execution_count": 55,
   "outputs": [
    {
     "output_type": "stream",
     "name": "stdout",
     "text": [
      "+----+-------------------+\n",
      "|vine|total_reviews_count|\n",
      "+----+-------------------+\n",
      "|   Y|               1029|\n",
      "|   N|              46593|\n",
      "+----+-------------------+\n",
      "\n"
     ]
    }
   ]
  },
  {
   "cell_type": "code",
   "source": [
    "fivestar_reviews = helpful_twenty_plus_votes.filter(helpful_twenty_plus_votes.star_rating=='5')\n",
    "fivestar_reviews.show(20)\n",
    "vine_fivestar_counts = fivestar_reviews.groupby(\"vine\").agg({\"vine\":\"count\"}).withColumnRenamed(\"count(vine)\", \"fivestar_reviews_count\")\n",
    "vine_fivestar_counts.show()"
   ],
   "metadata": {
    "colab": {
     "base_uri": "https://localhost:8080/"
    },
    "id": "C8qJkLStcM9G",
    "outputId": "e7d3568f-b551-49f9-9603-487addd992d7"
   },
   "execution_count": 56,
   "outputs": [
    {
     "output_type": "stream",
     "name": "stdout",
     "text": [
      "+--------------+-----------+-------------+-----------+----+-----------------+---------------+\n",
      "|     review_id|star_rating|helpful_votes|total_votes|vine|verified_purchase|helpful_percent|\n",
      "+--------------+-----------+-------------+-----------+----+-----------------+---------------+\n",
      "|R1FBO737KD9F2N|          5|           19|         23|   N|                Y|      82.608696|\n",
      "| ROTIV4VYL31R4|          5|           26|         26|   N|                Y|          100.0|\n",
      "|R3VQ59LD2LSKY7|          5|           20|         25|   N|                Y|           80.0|\n",
      "|R1V5W0X6BKIJYA|          5|          129|        132|   N|                Y|       97.72727|\n",
      "|R274AKHXHYGIN6|          5|           87|        100|   N|                N|           87.0|\n",
      "| RZETLPHZJFYB8|          5|           23|         24|   N|                Y|      95.833336|\n",
      "|R1Y05HDL2AWCSA|          5|          140|        145|   N|                Y|       96.55173|\n",
      "| RPTN47ZNQBPWE|          5|           20|         24|   N|                Y|      83.333336|\n",
      "|R3VJ8U3A8MT8II|          5|           17|         21|   N|                Y|       80.95238|\n",
      "|R3PZT6IB5CSSP2|          5|           49|         53|   N|                Y|       92.45283|\n",
      "|R28EFHFY2ZG6F9|          5|           41|         48|   N|                Y|      85.416664|\n",
      "| R82QWN2X2OCHB|          5|          176|        208|   Y|                N|       84.61539|\n",
      "| RCYUEJJZFUFN5|          5|           44|         46|   N|                Y|      95.652176|\n",
      "|R176QMCCCHPHI9|          5|           24|         34|   N|                Y|      70.588234|\n",
      "| RK518XBOLTJC9|          5|           45|         51|   N|                Y|       88.23529|\n",
      "|R1PBOAQYE8AM2Y|          5|           57|         68|   N|                Y|       83.82353|\n",
      "|R2W8A4VRV4U3R2|          5|           22|         22|   N|                Y|          100.0|\n",
      "|R20L5IJ5DI1OFJ|          5|           27|         28|   N|                Y|       96.42857|\n",
      "|R3OD3BMAM5WWNF|          5|           38|         39|   N|                N|        97.4359|\n",
      "|R1QIQLZL2LGWPO|          5|           58|         60|   N|                N|      96.666664|\n",
      "+--------------+-----------+-------------+-----------+----+-----------------+---------------+\n",
      "only showing top 20 rows\n",
      "\n",
      "+----+----------------------+\n",
      "|vine|fivestar_reviews_count|\n",
      "+----+----------------------+\n",
      "|   Y|                   440|\n",
      "|   N|                 21710|\n",
      "+----+----------------------+\n",
      "\n"
     ]
    }
   ]
  },
  {
   "cell_type": "code",
   "source": [
    "vine_reviews_summary = vine_total_counts.join(vine_fivestar_counts, (\"vine\"))\n",
    "vine_reviews_summary = vine_reviews_summary.withColumnRenamed('vine', 'incentive')\n",
    "vine_incentive={'Y':'Paid','N':'Unpaid'}\n",
    "vine_reviews_summary = vine_reviews_summary.rdd.map(lambda x: (vine_incentive[x.incentive], x.fivestar_reviews_count, x.total_reviews_count) ).toDF([\"incentive\",\"fivestar_reviews_count\",\"total_reviews_count\"])\n",
    "vine_reviews_summary = vine_reviews_summary.withColumn('fivestar_reviews_percent', vine_reviews_summary['fivestar_reviews_count']/vine_reviews_summary['total_reviews_count']*100)\n",
    "vine_reviews_summary = vine_reviews_summary.withColumn(\"fivestar_reviews_percent\",vine_reviews_summary.fivestar_reviews_percent.cast('float'))\n",
    "vine_reviews_summary.show()"
   ],
   "metadata": {
    "colab": {
     "base_uri": "https://localhost:8080/"
    },
    "id": "_bNITdyci5c7",
    "outputId": "09cbf18c-e263-4b5d-9e24-af31e704eaf6"
   },
   "execution_count": 58,
   "outputs": [
    {
     "output_type": "stream",
     "name": "stdout",
     "text": [
      "+---------+----------------------+-------------------+------------------------+\n",
      "|incentive|fivestar_reviews_count|total_reviews_count|fivestar_reviews_percent|\n",
      "+---------+----------------------+-------------------+------------------------+\n",
      "|     Paid|                   440|               1029|                42.75996|\n",
      "|   Unpaid|                 21710|              46593|               46.594982|\n",
      "+---------+----------------------+-------------------+------------------------+\n",
      "\n"
     ]
    }
   ]
  }
 ]
}